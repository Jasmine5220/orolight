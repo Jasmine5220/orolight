{
 "cells": [
  {
   "cell_type": "markdown",
   "metadata": {},
   "source": [
    "### **1. Data Preprocessing**\n",
    "- Load images from both **CANCER** and **NON CANCER** folders.\n",
    "- Resize images to **299x299** (required for InceptionResNetV2).\n",
    "- Normalize pixel values to **[0,1]**.\n",
    "- Apply **data augmentation** (rotation, flipping, zoom, etc.).\n",
    "- Split into **Train (80%)**, **Validation (10%)**, **Test (10%)**.\n",
    "\n",
    "### **2. Model Architecture**\n",
    "- Load **InceptionResNetV2** with `imagenet` weights.\n",
    "- Remove the top layer and add:\n",
    "  - **GlobalAveragePooling2D**\n",
    "  - **Dense(512, activation='relu')**\n",
    "  - **Dropout(0.3)**\n",
    "  - **Dense(1, activation='sigmoid')** (binary classification)\n",
    "\n",
    "### **3. Training Strategy**\n",
    "- **Phase 1:** Train only the custom classifier (freeze base model).\n",
    "- **Phase 2:** Unfreeze top layers and fine-tune with a **low learning rate**.\n",
    "- Use:\n",
    "  - **Adam optimizer** (with LR scheduling)\n",
    "  - **Binary Crossentropy Loss**\n",
    "  - **Early stopping & checkpointing**\n",
    "\n",
    "### **4. Evaluation & Visualization**\n",
    "- Compute accuracy, precision, recall, and AUC.\n",
    "- Use **Grad-CAM** to visualize model predictions.\n"
   ]
  },
  {
   "cell_type": "markdown",
   "metadata": {},
   "source": [
    "## **Step 1: Install & Import Required Libraries**  \n",
    "We'll install dependencies (if needed) and import essential libraries like TensorFlow, Keras, NumPy, Matplotlib, etc."
   ]
  },
  {
   "cell_type": "code",
   "execution_count": 7,
   "metadata": {},
   "outputs": [],
   "source": [
    "# Step 1: Install & Import Required Libraries\n",
    "\n",
    "import os\n",
    "import numpy as np\n",
    "import tensorflow as tf\n",
    "import matplotlib.pyplot as plt\n",
    "from tensorflow.keras.preprocessing.image import ImageDataGenerator\n",
    "from tensorflow.keras.applications import InceptionResNetV2\n",
    "from tensorflow.keras.layers import GlobalAveragePooling2D, Dense, Dropout\n",
    "from tensorflow.keras.models import Model\n",
    "from tensorflow.keras.optimizers import Adam\n",
    "from tensorflow.keras.callbacks import EarlyStopping, ModelCheckpoint\n",
    "from sklearn.metrics import classification_report, confusion_matrix\n",
    "import seaborn as sns\n",
    "import cv2\n",
    "import random\n",
    "from PIL import Image  # Import Pillow for image handling"
   ]
  },
  {
   "cell_type": "markdown",
   "metadata": {},
   "source": [
    "## **Step 2: Load and Preprocess the Dataset**  \n",
    "- Extract images from the dataset structure.\n",
    "- Organize them into **training, validation, and test sets**.\n",
    "- Apply **image augmentation** to improve generalization.\n",
    "- Resize images to **299x299** (InceptionResNetV2 input size).\n",
    "- Normalize pixel values to **[0,1]**."
   ]
  },
  {
   "cell_type": "code",
   "execution_count": 8,
   "metadata": {},
   "outputs": [
    {
     "name": "stdout",
     "output_type": "stream",
     "text": [
      "Extraction complete!\n",
      "Extracted files: ['Oral Cancer', 'Oral cancer Dataset 2.0']\n"
     ]
    }
   ],
   "source": [
    "import zipfile\n",
    "import os\n",
    "\n",
    "zip_path = \"./ocd.zip\"  # Ensure this matches your file location\n",
    "extract_path = \"./ocd\"\n",
    "\n",
    "# Extract the zip file\n",
    "with zipfile.ZipFile(zip_path, \"r\") as zip_ref:\n",
    "    zip_ref.extractall(extract_path)\n",
    "\n",
    "print(\"Extraction complete!\")\n",
    "print(\"Extracted files:\", os.listdir(extract_path))"
   ]
  },
  {
   "cell_type": "code",
   "execution_count": 9,
   "metadata": {},
   "outputs": [
    {
     "name": "stdout",
     "output_type": "stream",
     "text": [
      "Found 600 images belonging to 2 classes.\n",
      "Found 150 images belonging to 2 classes.\n",
      "Found 950 images belonging to 2 classes.\n",
      "Skipping corrupt image: ./ocd\\Oral cancer Dataset 2.0/OC Dataset kaggle new\\CANCER\\101.jpeg - cannot identify image file 'E:\\\\edp-final-pakka\\\\ocd\\\\Oral cancer Dataset 2.0\\\\OC Dataset kaggle new\\\\CANCER\\\\101.jpeg'\n",
      "Skipping corrupt image: ./ocd\\Oral cancer Dataset 2.0/OC Dataset kaggle new\\CANCER\\200.jpeg - cannot identify image file 'E:\\\\edp-final-pakka\\\\ocd\\\\Oral cancer Dataset 2.0\\\\OC Dataset kaggle new\\\\CANCER\\\\200.jpeg'\n",
      "Skipping corrupt image: ./ocd\\Oral cancer Dataset 2.0/OC Dataset kaggle new\\CANCER\\273.jpeg - cannot identify image file 'E:\\\\edp-final-pakka\\\\ocd\\\\Oral cancer Dataset 2.0\\\\OC Dataset kaggle new\\\\CANCER\\\\273.jpeg'\n",
      "Skipping corrupt image: ./ocd\\Oral cancer Dataset 2.0/OC Dataset kaggle new\\CANCER\\317.jpeg - cannot identify image file 'E:\\\\edp-final-pakka\\\\ocd\\\\Oral cancer Dataset 2.0\\\\OC Dataset kaggle new\\\\CANCER\\\\317.jpeg'\n",
      "Skipping corrupt image: ./ocd\\Oral cancer Dataset 2.0/OC Dataset kaggle new\\CANCER\\328.jpeg - cannot identify image file 'E:\\\\edp-final-pakka\\\\ocd\\\\Oral cancer Dataset 2.0\\\\OC Dataset kaggle new\\\\CANCER\\\\328.jpeg'\n",
      "Skipping corrupt image: ./ocd\\Oral cancer Dataset 2.0/OC Dataset kaggle new\\CANCER\\407.jpeg - cannot identify image file 'E:\\\\edp-final-pakka\\\\ocd\\\\Oral cancer Dataset 2.0\\\\OC Dataset kaggle new\\\\CANCER\\\\407.jpeg'\n",
      "Skipping corrupt image: ./ocd\\Oral cancer Dataset 2.0/OC Dataset kaggle new\\CANCER\\450.jpeg - cannot identify image file 'E:\\\\edp-final-pakka\\\\ocd\\\\Oral cancer Dataset 2.0\\\\OC Dataset kaggle new\\\\CANCER\\\\450.jpeg'\n",
      "Skipping corrupt image: ./ocd\\Oral cancer Dataset 2.0/OC Dataset kaggle new\\CANCER\\455.jpeg - cannot identify image file 'E:\\\\edp-final-pakka\\\\ocd\\\\Oral cancer Dataset 2.0\\\\OC Dataset kaggle new\\\\CANCER\\\\455.jpeg'\n",
      "Skipping corrupt image: ./ocd\\Oral cancer Dataset 2.0/OC Dataset kaggle new\\CANCER\\481.jpeg - cannot identify image file 'E:\\\\edp-final-pakka\\\\ocd\\\\Oral cancer Dataset 2.0\\\\OC Dataset kaggle new\\\\CANCER\\\\481.jpeg'\n",
      "Skipping corrupt image: ./ocd\\Oral cancer Dataset 2.0/OC Dataset kaggle new\\CANCER\\485.jpeg - cannot identify image file 'E:\\\\edp-final-pakka\\\\ocd\\\\Oral cancer Dataset 2.0\\\\OC Dataset kaggle new\\\\CANCER\\\\485.jpeg'\n"
     ]
    }
   ],
   "source": [
    "### Step 2: Load and Preprocess Dataset\n",
    "\n",
    "# Define dataset paths\n",
    "data_dir = \"./ocd\"  # Change this to the actual path\n",
    "train_dir = os.path.join(data_dir, \"Oral Cancer/Oral Cancer Dataset\")\n",
    "test_dir = os.path.join(data_dir, \"Oral cancer Dataset 2.0/OC Dataset kaggle new\")\n",
    "\n",
    "# Define parameters\n",
    "IMG_SIZE = (299, 299)\n",
    "BATCH_SIZE = 32\n",
    "\n",
    "# Data Augmentation\n",
    "train_datagen = ImageDataGenerator(\n",
    "    rescale=1./255,\n",
    "    rotation_range=30,\n",
    "    width_shift_range=0.2,\n",
    "    height_shift_range=0.2,\n",
    "    shear_range=0.2,\n",
    "    zoom_range=0.2,\n",
    "    horizontal_flip=True,\n",
    "    validation_split=0.2  # Splitting into 80% train, 20% validation\n",
    ")\n",
    "\n",
    "# Load images\n",
    "train_generator = train_datagen.flow_from_directory(\n",
    "    train_dir,\n",
    "    target_size=IMG_SIZE,\n",
    "    batch_size=BATCH_SIZE,\n",
    "    class_mode='binary',\n",
    "    subset='training'\n",
    ")\n",
    "\n",
    "val_generator = train_datagen.flow_from_directory(\n",
    "    train_dir,\n",
    "    target_size=IMG_SIZE,\n",
    "    batch_size=BATCH_SIZE,\n",
    "    class_mode='binary',\n",
    "    subset='validation'\n",
    ")\n",
    "\n",
    "class SafeImageDataGenerator(ImageDataGenerator):\n",
    "    def flow_from_directory(self, directory, *args, **kwargs):\n",
    "        gen = super().flow_from_directory(directory, *args, **kwargs)\n",
    "        valid_filenames = []\n",
    "\n",
    "        for filename in gen.filenames:\n",
    "            file_path = os.path.join(directory, filename)\n",
    "            try:\n",
    "                with Image.open(file_path) as img:\n",
    "                    img.verify()  # Ensure it's a valid image\n",
    "                valid_filenames.append(filename)\n",
    "            except Exception as e:\n",
    "                print(f\"Skipping corrupt image: {file_path} - {e}\")\n",
    "\n",
    "        gen.filenames = valid_filenames\n",
    "        gen.samples = len(valid_filenames)\n",
    "        return gen\n",
    "\n",
    "# Use this instead of the standard ImageDataGenerator\n",
    "test_datagen = SafeImageDataGenerator(rescale=1./255)\n",
    "test_generator = test_datagen.flow_from_directory(\n",
    "    test_dir,\n",
    "    target_size=(224, 224),  # Adjust based on your model input\n",
    "    batch_size=32,\n",
    "    class_mode='binary',\n",
    "    shuffle=False\n",
    ")\n"
   ]
  },
  {
   "cell_type": "markdown",
   "metadata": {},
   "source": [
    "## **Step 3: Load InceptionResNetV2 Model**  \n",
    "- Load **InceptionResNetV2** with pre-trained **ImageNet** weights.\n",
    "- Remove the top classification layer.\n",
    "- Add **custom dense layers** for binary classification."
   ]
  },
  {
   "cell_type": "code",
   "execution_count": 9,
   "metadata": {},
   "outputs": [
    {
     "name": "stdout",
     "output_type": "stream",
     "text": [
      "Downloading data from https://storage.googleapis.com/tensorflow/keras-applications/inception_resnet_v2/inception_resnet_v2_weights_tf_dim_ordering_tf_kernels_notop.h5\n",
      "219055592/219055592 [==============================] - 1446s 7us/step\n"
     ]
    }
   ],
   "source": [
    "# Load pre-trained model without the top layer\n",
    "base_model = InceptionResNetV2(weights='imagenet', include_top=False, input_shape=(299, 299, 3))\n",
    "base_model.trainable = False  # Freeze base model for initial training\n",
    "\n",
    "# Add custom layers\n",
    "x = GlobalAveragePooling2D()(base_model.output)\n",
    "x = Dense(512, activation='relu')(x)\n",
    "x = Dropout(0.3)(x)\n",
    "output = Dense(1, activation='sigmoid')(x)\n",
    "\n",
    "model = Model(inputs=base_model.input, outputs=output)\n",
    "\n",
    "# Compile model\n",
    "model.compile(optimizer=Adam(learning_rate=0.001), loss='binary_crossentropy', metrics=['accuracy'])"
   ]
  },
  {
   "cell_type": "markdown",
   "metadata": {},
   "source": [
    "## **Step 4: Compile and Train the Model**  \n",
    "- **Phase 1:** Train only the new classifier layers (freeze base layers).\n",
    "- **Phase 2:** Unfreeze the top layers and fine-tune the entire model.\n",
    "- Use **Adam optimizer**, **binary cross-entropy loss**, and **early stopping**."
   ]
  },
  {
   "cell_type": "code",
   "execution_count": 10,
   "metadata": {},
   "outputs": [
    {
     "name": "stdout",
     "output_type": "stream",
     "text": [
      "Epoch 1/10\n",
      "12/19 [=================>............] - ETA: 25s - loss: 1.0715 - accuracy: 0.5990"
     ]
    },
    {
     "name": "stderr",
     "output_type": "stream",
     "text": [
      "c:\\Users\\Jasmine Jayaswal\\AppData\\Local\\Programs\\Python\\Python38\\lib\\site-packages\\PIL\\Image.py:1056: UserWarning: Palette images with Transparency expressed in bytes should be converted to RGBA images\n",
      "  warnings.warn(\n"
     ]
    },
    {
     "name": "stdout",
     "output_type": "stream",
     "text": [
      "19/19 [==============================] - ETA: 0s - loss: 0.8546 - accuracy: 0.6717"
     ]
    },
    {
     "name": "stderr",
     "output_type": "stream",
     "text": [
      "c:\\Users\\Jasmine Jayaswal\\AppData\\Local\\Programs\\Python\\Python38\\lib\\site-packages\\keras\\src\\engine\\training.py:3000: UserWarning: You are saving your model as an HDF5 file via `model.save()`. This file format is considered legacy. We recommend using instead the native Keras format, e.g. `model.save('my_model.keras')`.\n",
      "  saving_api.save_model(\n"
     ]
    },
    {
     "name": "stdout",
     "output_type": "stream",
     "text": [
      "19/19 [==============================] - 100s 5s/step - loss: 0.8546 - accuracy: 0.6717 - val_loss: 0.6981 - val_accuracy: 0.6867\n",
      "Epoch 2/10\n",
      "19/19 [==============================] - 102s 5s/step - loss: 0.4131 - accuracy: 0.8300 - val_loss: 0.6685 - val_accuracy: 0.6867\n",
      "Epoch 3/10\n",
      "19/19 [==============================] - 106s 6s/step - loss: 0.3578 - accuracy: 0.8650 - val_loss: 0.5579 - val_accuracy: 0.7133\n",
      "Epoch 4/10\n",
      "19/19 [==============================] - 104s 6s/step - loss: 0.3178 - accuracy: 0.8717 - val_loss: 0.5556 - val_accuracy: 0.7333\n",
      "Epoch 5/10\n",
      "19/19 [==============================] - 103s 5s/step - loss: 0.3289 - accuracy: 0.8617 - val_loss: 0.5599 - val_accuracy: 0.7733\n",
      "Epoch 6/10\n",
      "19/19 [==============================] - 106s 6s/step - loss: 0.2743 - accuracy: 0.9000 - val_loss: 0.5312 - val_accuracy: 0.7400\n",
      "Epoch 7/10\n",
      "19/19 [==============================] - 107s 6s/step - loss: 0.2934 - accuracy: 0.8883 - val_loss: 0.4391 - val_accuracy: 0.8267\n",
      "Epoch 8/10\n",
      "19/19 [==============================] - 110s 6s/step - loss: 0.2465 - accuracy: 0.9067 - val_loss: 0.4189 - val_accuracy: 0.7933\n",
      "Epoch 9/10\n",
      "19/19 [==============================] - 109s 6s/step - loss: 0.2812 - accuracy: 0.8933 - val_loss: 0.4346 - val_accuracy: 0.7867\n",
      "Epoch 10/10\n",
      "19/19 [==============================] - 105s 6s/step - loss: 0.2496 - accuracy: 0.8983 - val_loss: 0.4513 - val_accuracy: 0.8200\n",
      "Epoch 1/10\n",
      "19/19 [==============================] - 458s 21s/step - loss: 0.3953 - accuracy: 0.8350 - val_loss: 0.4273 - val_accuracy: 0.8200\n",
      "Epoch 2/10\n",
      "19/19 [==============================] - 394s 21s/step - loss: 0.3071 - accuracy: 0.8917 - val_loss: 0.4213 - val_accuracy: 0.8133\n",
      "Epoch 3/10\n",
      "19/19 [==============================] - 401s 21s/step - loss: 0.2646 - accuracy: 0.9033 - val_loss: 0.4260 - val_accuracy: 0.8133\n",
      "Epoch 4/10\n",
      "19/19 [==============================] - 393s 21s/step - loss: 0.2400 - accuracy: 0.9117 - val_loss: 0.3684 - val_accuracy: 0.8333\n",
      "Epoch 5/10\n",
      "19/19 [==============================] - 386s 21s/step - loss: 0.2072 - accuracy: 0.9317 - val_loss: 0.3597 - val_accuracy: 0.8467\n",
      "Epoch 6/10\n",
      "19/19 [==============================] - 391s 21s/step - loss: 0.1611 - accuracy: 0.9483 - val_loss: 0.3274 - val_accuracy: 0.8600\n",
      "Epoch 7/10\n",
      "19/19 [==============================] - 397s 21s/step - loss: 0.1521 - accuracy: 0.9500 - val_loss: 0.3054 - val_accuracy: 0.8733\n",
      "Epoch 8/10\n",
      "19/19 [==============================] - 394s 21s/step - loss: 0.1405 - accuracy: 0.9550 - val_loss: 0.2897 - val_accuracy: 0.8667\n",
      "Epoch 9/10\n",
      "19/19 [==============================] - 396s 21s/step - loss: 0.1139 - accuracy: 0.9683 - val_loss: 0.2546 - val_accuracy: 0.9000\n",
      "Epoch 10/10\n",
      "19/19 [==============================] - 383s 20s/step - loss: 0.0889 - accuracy: 0.9800 - val_loss: 0.2714 - val_accuracy: 0.8800\n"
     ]
    }
   ],
   "source": [
    "### Step 4: Train the Model\n",
    "\n",
    "# Callbacks\n",
    "early_stopping = EarlyStopping(monitor='val_loss', patience=5, restore_best_weights=True)\n",
    "model_checkpoint = ModelCheckpoint('best_model.h5', save_best_only=True)\n",
    "\n",
    "# Train Phase 1 (only new layers)\n",
    "history = model.fit(\n",
    "    train_generator,\n",
    "    validation_data=val_generator,\n",
    "    epochs=10,\n",
    "    callbacks=[early_stopping, model_checkpoint]\n",
    ")\n",
    "\n",
    "# Fine-tuning Phase 2 (unfreeze some layers)\n",
    "base_model.trainable = True\n",
    "\n",
    "model.compile(optimizer=Adam(learning_rate=1e-5), loss='binary_crossentropy', metrics=['accuracy'])\n",
    "\n",
    "history_fine = model.fit(\n",
    "    train_generator,\n",
    "    validation_data=val_generator,\n",
    "    epochs=10,\n",
    "    callbacks=[early_stopping, model_checkpoint]\n",
    ")"
   ]
  },
  {
   "cell_type": "code",
   "execution_count": null,
   "metadata": {},
   "outputs": [
    {
     "data": {
      "image/png": "[encoded data removed]",
      "text/plain": [
       "<Figure size 1200x500 with 2 Axes>"
      ]
     },
     "metadata": {},
     "output_type": "display_data"
    }
   ],
   "source": [
    "# Plot Accuracy\n",
    "plt.figure(figsize=(12, 5))\n",
    "plt.subplot(1, 2, 1)\n",
    "plt.plot(history.history['accuracy'], label='Training Accuracy')\n",
    "plt.plot(history.history['val_accuracy'], label='Validation Accuracy')\n",
    "plt.xlabel('Epochs')\n",
    "plt.ylabel('Accuracy')\n",
    "plt.title('Model Accuracy')\n",
    "plt.legend()\n",
    "\n",
    "# Plot Loss\n",
    "plt.subplot(1, 2, 2)\n",
    "plt.plot(history.history['loss'], label='Training Loss')\n",
    "plt.plot(history.history['val_loss'], label='Validation Loss')\n",
    "plt.xlabel('Epochs')\n",
    "plt.ylabel('Loss')\n",
    "plt.title('Model Loss')\n",
    "plt.legend()\n",
    "\n",
    "plt.show()"
   ]
  },
  {
   "cell_type": "markdown",
   "metadata": {},
   "source": [
    "\n",
    "## **Step 5: Model Evaluation**  \n",
    "- Evaluate performance using **accuracy, precision, recall, and AUC**.\n",
    "- Plot **training loss vs. validation loss** and **confusion matrix**.\n",
    "- Use **Grad-CAM** to visualize which image regions influenced predictions."
   ]
  },
  {
   "cell_type": "code",
   "execution_count": 20,
   "metadata": {},
   "outputs": [
    {
     "name": "stdout",
     "output_type": "stream",
     "text": [
      "Corrupt image found: ./ocd/oral Cancer dataset 2.0/OC Dataset kaggle new\\CANCER\\101.jpeg\n",
      "Corrupt images removed!\n"
     ]
    }
   ],
   "source": [
    "from PIL import Image\n",
    "import os\n",
    "\n",
    "def check_corrupt_images(directory):\n",
    "    for root, _, files in os.walk(directory):\n",
    "        for file in files:\n",
    "            file_path = os.path.join(root, file)\n",
    "            try:\n",
    "                img = Image.open(file_path)  # Try to open the image\n",
    "                img.verify()  # Check if the image is valid\n",
    "            except (IOError, OSError):\n",
    "                print(f\"Corrupt image found: {file_path}\")\n",
    "                os.remove(file_path)  # Remove the corrupt image\n",
    "\n",
    "# Check train and test directories\n",
    "check_corrupt_images(\"./ocd/Oral Cancer/Oral Cancer Dataset\")\n",
    "check_corrupt_images(\"./ocd/oral Cancer dataset 2.0/OC Dataset kaggle new\")\n",
    "print(\"Corrupt images removed!\")"
   ]
  },
  {
   "cell_type": "code",
   "execution_count": 21,
   "metadata": {},
   "outputs": [
    {
     "name": "stdout",
     "output_type": "stream",
     "text": [
      "All images converted to JPEG format!\n"
     ]
    }
   ],
   "source": [
    "def convert_images_to_jpeg(directory):\n",
    "    for root, _, files in os.walk(directory):\n",
    "        for file in files:\n",
    "            file_path = os.path.join(root, file)\n",
    "            try:\n",
    "                img = Image.open(file_path)\n",
    "                if img.format not in [\"JPEG\", \"JPG\"]:\n",
    "                    img.convert(\"RGB\").save(file_path, \"JPEG\")\n",
    "            except Exception as e:\n",
    "                print(f\"Error converting {file_path}: {e}\")\n",
    "\n",
    "convert_images_to_jpeg(\"./ocd/Oral Cancer/Oral Cancer Dataset\")\n",
    "convert_images_to_jpeg(\"./ocd/oral Cancer dataset 2.0/OC Dataset kaggle new\")\n",
    "print(\"All images converted to JPEG format!\")\n"
   ]
  },
  {
   "cell_type": "code",
   "execution_count": 1,
   "metadata": {},
   "outputs": [
    {
     "ename": "NameError",
     "evalue": "name 'model' is not defined",
     "output_type": "error",
     "traceback": [
      "\u001b[1;31m---------------------------------------------------------------------------\u001b[0m",
      "\u001b[1;31mNameError\u001b[0m                                 Traceback (most recent call last)",
      "Cell \u001b[1;32mIn[1], line 6\u001b[0m\n\u001b[0;32m      3\u001b[0m \u001b[38;5;28;01mfrom\u001b[39;00m \u001b[38;5;21;01msklearn\u001b[39;00m\u001b[38;5;21;01m.\u001b[39;00m\u001b[38;5;21;01mmetrics\u001b[39;00m \u001b[38;5;28;01mimport\u001b[39;00m confusion_matrix, classification_report\n\u001b[0;32m      5\u001b[0m \u001b[38;5;66;03m# Step 1: Evaluate the Model\u001b[39;00m\n\u001b[1;32m----> 6\u001b[0m test_loss, test_acc \u001b[38;5;241m=\u001b[39m \u001b[43mmodel\u001b[49m\u001b[38;5;241m.\u001b[39mevaluate(test_generator)\n\u001b[0;32m      7\u001b[0m \u001b[38;5;28mprint\u001b[39m(\u001b[38;5;124mf\u001b[39m\u001b[38;5;124m'\u001b[39m\u001b[38;5;124mTest Accuracy: \u001b[39m\u001b[38;5;132;01m{\u001b[39;00mtest_acc\u001b[38;5;250m \u001b[39m\u001b[38;5;241m*\u001b[39m\u001b[38;5;250m \u001b[39m\u001b[38;5;241m100\u001b[39m\u001b[38;5;132;01m:\u001b[39;00m\u001b[38;5;124m.2f\u001b[39m\u001b[38;5;132;01m}\u001b[39;00m\u001b[38;5;124m%\u001b[39m\u001b[38;5;124m'\u001b[39m)\n\u001b[0;32m      9\u001b[0m \u001b[38;5;66;03m# Step 2: Predictions\u001b[39;00m\n",
      "\u001b[1;31mNameError\u001b[0m: name 'model' is not defined"
     ]
    }
   ],
   "source": [
    "import matplotlib.pyplot as plt\n",
    "import seaborn as sns\n",
    "from sklearn.metrics import confusion_matrix, classification_report\n",
    "\n",
    "# Step 1: Evaluate the Model\n",
    "test_loss, test_acc = model.evaluate(test_generator)\n",
    "print(f'Test Accuracy: {test_acc * 100:.2f}%')\n",
    "\n",
    "# Step 2: Predictions\n",
    "predictions = model.predict(test_generator)\n",
    "pred_labels = (predictions > 0.5).astype(int)  # Convert probabilities to 0 or 1\n",
    "true_labels = test_generator.classes  # Ground truth labels\n",
    "\n",
    "# Step 3: Confusion Matrix\n",
    "cm = confusion_matrix(true_labels, pred_labels)\n",
    "plt.figure(figsize=(6,6))\n",
    "sns.heatmap(cm, annot=True, fmt='d', cmap='Blues', xticklabels=['Non-Cancer', 'Cancer'], yticklabels=['Non-Cancer', 'Cancer'])\n",
    "plt.xlabel('Predicted')\n",
    "plt.ylabel('Actual')\n",
    "plt.title('Confusion Matrix')\n",
    "plt.show()\n",
    "\n",
    "# Step 4: Classification Report\n",
    "print(classification_report(true_labels, pred_labels, target_names=['Non-Cancer', 'Cancer']))\n"
   ]
  },
  {
   "cell_type": "code",
   "execution_count": 1,
   "metadata": {},
   "outputs": [
    {
     "ename": "NameError",
     "evalue": "name 'tfjs' is not defined",
     "output_type": "error",
     "traceback": [
      "\u001b[1;31m---------------------------------------------------------------------------\u001b[0m",
      "\u001b[1;31mNameError\u001b[0m                                 Traceback (most recent call last)",
      "Cell \u001b[1;32mIn[1], line 7\u001b[0m\n\u001b[0;32m      4\u001b[0m model \u001b[38;5;241m=\u001b[39m tf\u001b[38;5;241m.\u001b[39mkeras\u001b[38;5;241m.\u001b[39mmodels\u001b[38;5;241m.\u001b[39mload_model(\u001b[38;5;124m'\u001b[39m\u001b[38;5;124mbest_model.h5\u001b[39m\u001b[38;5;124m'\u001b[39m)\n\u001b[0;32m      6\u001b[0m \u001b[38;5;66;03m# Convert to TensorFlow.js format\u001b[39;00m\n\u001b[1;32m----> 7\u001b[0m \u001b[43mtfjs\u001b[49m\u001b[38;5;241m.\u001b[39mconverters\u001b[38;5;241m.\u001b[39msave_keras_model(model, \u001b[38;5;124m'\u001b[39m\u001b[38;5;124mtfjs_model\u001b[39m\u001b[38;5;124m'\u001b[39m)\n",
      "\u001b[1;31mNameError\u001b[0m: name 'tfjs' is not defined"
     ]
    }
   ],
   "source": [
    "   import tensorflow as tf\n",
    "   import tensorflowjs as tfjs  # This is the correct import\n",
    "\n",
    "   # Load your Keras model\n",
    "   model = tf.keras.models.load_model('best_model.h5')\n",
    "   \n",
    "   # Convert to TensorFlow.js format\n",
    "   tfjs.converters.save_keras_model(model, 'tfjs_model')"
   ]
  }
 ],
 "metadata": {
  "kernelspec": {
   "display_name": "Python 3",
   "language": "python",
   "name": "python3"
  },
  "language_info": {
   "codemirror_mode": {
    "name": "ipython",
    "version": 3
   },
   "file_extension": ".py",
   "mimetype": "text/x-python",
   "name": "python",
   "nbconvert_exporter": "python",
   "pygments_lexer": "ipython3",
   "version": "3.8.10"
  }
 },
 "nbformat": 4,
 "nbformat_minor": 2
}
